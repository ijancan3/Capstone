{
 "cells": [
  {
   "cell_type": "markdown",
   "id": "36a6021e-40e9-4575-b8f9-e42c85ccd11e",
   "metadata": {},
   "source": [
    "# Computer Science Capstone\n",
    "## By: Igor Jancan"
   ]
  },
  {
   "cell_type": "markdown",
   "id": "4ada0780-d109-4223-9abd-ac248a8e8f88",
   "metadata": {},
   "source": [
    "### The purpose of this project is to demonstrate competency in using a dataset in conjunction with machine learning to perform data anlytics and predictions. I have chosen a dataset of about 2000 patients, some of whom have been diagnosed with Alzheimers and some who had not. The dataset includes various demographics information, as well as results of medical tests. We will use these demographics and results as training data, and using a machine learning model, to predic whether a patient can be diagnosed with Alzheimers or not (i.e. the non-descriptive method)."
   ]
  },
  {
   "cell_type": "markdown",
   "id": "871a1cbe-f1e6-4c21-be1e-711f0c7bc144",
   "metadata": {},
   "source": []
  },
  {
   "cell_type": "code",
   "execution_count": 1,
   "id": "148d59a1-33f6-418a-b5f0-10a6d6790238",
   "metadata": {},
   "outputs": [],
   "source": [
    "import pandas as pd\n",
    "import numpy as np\n",
    "import matplotlib.pyplot as plt\n",
    "import ipywidgets as widgets\n",
    "import seaborn as sns\n",
    "%matplotlib inline\n",
    "\n",
    "from sklearn.ensemble import RandomForestClassifier\n",
    "from sklearn.model_selection import train_test_split, cross_val_score\n",
    "from sklearn.model_selection import RandomizedSearchCV, GridSearchCV\n",
    "from sklearn.metrics import confusion_matrix, classification_report\n",
    "from sklearn.metrics import precision_score, recall_score, f1_score"
   ]
  },
  {
   "cell_type": "markdown",
   "id": "6af01b2f-bcfb-4c36-8f44-5e5ac907789f",
   "metadata": {},
   "source": [
    "## Loading, Exploring and Cleaning Data"
   ]
  },
  {
   "cell_type": "code",
   "execution_count": 2,
   "id": "e8012aac-f91c-4569-b2eb-0c211697b6a2",
   "metadata": {},
   "outputs": [
    {
     "data": {
      "application/vnd.jupyter.widget-view+json": {
       "model_id": "f14a492619984f6f9f96748ad5ad5792",
       "version_major": 2,
       "version_minor": 0
      },
      "text/plain": [
       "Button(button_style='info', description='Show Data', style=ButtonStyle(), tooltip='Show Data')"
      ]
     },
     "metadata": {},
     "output_type": "display_data"
    },
    {
     "data": {
      "application/vnd.jupyter.widget-view+json": {
       "model_id": "e5a4baeb177344ec8de805a1b9dac450",
       "version_major": 2,
       "version_minor": 0
      },
      "text/plain": [
       "Button(button_style='info', description='Hide Data', style=ButtonStyle(), tooltip='Hide Data')"
      ]
     },
     "metadata": {},
     "output_type": "display_data"
    },
    {
     "data": {
      "application/vnd.jupyter.widget-view+json": {
       "model_id": "1742d1ac1aca433c851d799d5b274f60",
       "version_major": 2,
       "version_minor": 0
      },
      "text/plain": [
       "Output()"
      ]
     },
     "metadata": {},
     "output_type": "display_data"
    }
   ],
   "source": [
    "from IPython.display import display\n",
    "out=widgets.Output()\n",
    "data = pd.read_csv(\"alzheimers_disease_data.csv\")\n",
    "\n",
    "rawData = widgets.Button(\n",
    "    description='Show Data',\n",
    "    disabled=False,\n",
    "    button_style='info',\n",
    "    tooltip='Show Data'\n",
    ")\n",
    "hideData = widgets.Button(\n",
    "    description = 'Hide Data',\n",
    "    button_style = 'info',\n",
    "    tooltip='Hide Data')\n",
    "\n",
    "display(rawData,hideData,out)\n",
    "def showData(b):\n",
    "    data=pd.read_csv(\"alzheimers_disease_data.csv\")\n",
    "    with out:\n",
    "        display(data)\n",
    "def clearData(b):\n",
    "    out.clear_output()\n",
    "rawData.on_click(showData)\n",
    "hideData.on_click(clearData)\n",
    "\n",
    "    "
   ]
  },
  {
   "cell_type": "markdown",
   "id": "73bdd782-56bf-4d1a-b6bd-528b6675bd81",
   "metadata": {},
   "source": [
    "### We can do some preliminary data exploration by using a scatter plot to show correlation between age and MMSE columns in both Alzheimer's positive and negative patients. As we can see from the plot below, more Alzheimer's negative patients score higher on the MMSE exam than the number of patients with a positive diagnosis. Age alone does not seem to impact MMSE scores for either group."
   ]
  },
  {
   "cell_type": "code",
   "execution_count": 3,
   "id": "82357f78-645b-4995-8797-2cfa8e8c8fc0",
   "metadata": {},
   "outputs": [
    {
     "data": {
      "application/vnd.jupyter.widget-view+json": {
       "model_id": "68e112f326324fb9ab4065f920747497",
       "version_major": 2,
       "version_minor": 0
      },
      "text/plain": [
       "Button(button_style='info', description='Show Plot', style=ButtonStyle(), tooltip='Show Plot')"
      ]
     },
     "metadata": {},
     "output_type": "display_data"
    },
    {
     "data": {
      "application/vnd.jupyter.widget-view+json": {
       "model_id": "c8e7683477534daf8f61dd006ddbc46a",
       "version_major": 2,
       "version_minor": 0
      },
      "text/plain": [
       "Button(button_style='info', description='Hide Plot', style=ButtonStyle(), tooltip='Hide Plot')"
      ]
     },
     "metadata": {},
     "output_type": "display_data"
    },
    {
     "data": {
      "application/vnd.jupyter.widget-view+json": {
       "model_id": "f0703704922e4447bd8dd589c1fe1e4c",
       "version_major": 2,
       "version_minor": 0
      },
      "text/plain": [
       "Output()"
      ]
     },
     "metadata": {},
     "output_type": "display_data"
    }
   ],
   "source": [
    "outScatter=widgets.Output()\n",
    "\n",
    "\n",
    "showScatter = widgets.Button(\n",
    "    description='Show Plot',\n",
    "    disabled=False,\n",
    "    button_style='info',\n",
    "    tooltip='Show Plot'\n",
    ")\n",
    "hideScatter = widgets.Button(\n",
    "    description = 'Hide Plot',\n",
    "    button_style = 'info',\n",
    "    tooltip='Hide Plot')\n",
    "\n",
    "display(showScatter,hideScatter,outScatter)\n",
    "def showScatterPlot(b):\n",
    "    outScatter.clear_output()\n",
    "    with outScatter:\n",
    "        plt.figure(figsize=(8,6))\n",
    "        plt.scatter(data.Age[data.Diagnosis==1],data.MMSE[data.Diagnosis==1], c=\"red\")\n",
    "        plt.scatter(data.Age[data.Diagnosis==0],data.MMSE[data.Diagnosis==0], c=\"blue\")\n",
    "        plt.title(\"MMSE scores by age in Alzheimer's positive and negative groups\")\n",
    "        plt.xlabel(\"Age\")\n",
    "        plt.ylabel(\"MMSE Score\")\n",
    "        plt.legend([\"Alzheimer's Positive\", \"Alzheimer's negative\"])\n",
    "        plt.show()\n",
    "        \n",
    "def clearScatterPlot(b):\n",
    "    outScatter.clear_output()\n",
    "showScatter.on_click(showScatterPlot)\n",
    "hideScatter.on_click(clearScatterPlot)\n"
   ]
  },
  {
   "cell_type": "markdown",
   "id": "a5ab6eb9-f2d0-4c58-b9bd-c5cea540843a",
   "metadata": {},
   "source": [
    "### Because we do not want to include PatientID and DoctorInCharge columns in our modeling, we drop them."
   ]
  },
  {
   "cell_type": "code",
   "execution_count": 4,
   "id": "8e23480f-ca99-48dd-b1d6-7052d65c1841",
   "metadata": {},
   "outputs": [],
   "source": [
    "data = data.drop(['PatientID', 'DoctorInCharge'], axis=1)"
   ]
  },
  {
   "cell_type": "markdown",
   "id": "2e4a3bdc-bc75-4ea1-979e-8971b3e9e0e7",
   "metadata": {},
   "source": [
    "### We will also make a correlation matrix to see if our how our variables correlate with each other. From the matrix below, we can clearly see that the standout variables for a positive diagnosis are Memory Complaints and Behavioral Problems"
   ]
  },
  {
   "cell_type": "code",
   "execution_count": 5,
   "id": "ec6dda59-f354-46f5-a4df-b74e27eed7a0",
   "metadata": {},
   "outputs": [
    {
     "data": {
      "application/vnd.jupyter.widget-view+json": {
       "model_id": "4a67b5eac7604d999c7a3f515cfe8297",
       "version_major": 2,
       "version_minor": 0
      },
      "text/plain": [
       "Button(button_style='info', description='Show Matrix', style=ButtonStyle(), tooltip='Show Matrix')"
      ]
     },
     "metadata": {},
     "output_type": "display_data"
    },
    {
     "data": {
      "application/vnd.jupyter.widget-view+json": {
       "model_id": "fca079226ac649c682b585c963870e4f",
       "version_major": 2,
       "version_minor": 0
      },
      "text/plain": [
       "Button(button_style='info', description='Hide Matrix', style=ButtonStyle(), tooltip='Hide Matrix')"
      ]
     },
     "metadata": {},
     "output_type": "display_data"
    },
    {
     "data": {
      "application/vnd.jupyter.widget-view+json": {
       "model_id": "3de9b67733e949f3bbcefdcb0f4ee02d",
       "version_major": 2,
       "version_minor": 0
      },
      "text/plain": [
       "Output()"
      ]
     },
     "metadata": {},
     "output_type": "display_data"
    }
   ],
   "source": [
    "outCorr=widgets.Output()\n",
    "\n",
    "\n",
    "showCorr = widgets.Button(\n",
    "    description='Show Matrix',\n",
    "    disabled=False,\n",
    "    button_style='info',\n",
    "    tooltip='Show Matrix'\n",
    ")\n",
    "hideCorr = widgets.Button(\n",
    "    description = 'Hide Matrix',\n",
    "    button_style = 'info',\n",
    "    tooltip='Hide Matrix')\n",
    "\n",
    "display(showCorr,hideCorr)\n",
    "display(outCorr)\n",
    "def showMatrix(b):\n",
    "    outCorr.clear_output()\n",
    "    correlation_matrix = data.corr()\n",
    "    figure, ax = plt.subplots(figsize=(20,15))\n",
    "    ax = sns.heatmap(correlation_matrix, annot=True,linewidths=0.3, fmt=\".2f\", cmap=\"rocket_r\")\n",
    "    with outCorr:\n",
    "        display(figure)\n",
    "        \n",
    "def clearMatrix(b):\n",
    "    outCorr.clear_output()\n",
    "showCorr.on_click(showMatrix)\n",
    "hideCorr.on_click(clearMatrix)\n"
   ]
  },
  {
   "cell_type": "markdown",
   "id": "a4e43fd6-9404-456e-b985-0cc8a405b273",
   "metadata": {},
   "source": [
    "### We're going to take one more step to clean the data. Because some of our variables are categorical and non-binary (namely, Ethnicity and EducationLevel), but are presented as numbers in our data, we do not want our model to treat those categorical variables as numeric. This could lead to improper fitting of the model. We use OneHotEncoder function of Scikit-learn to transform the variables to binary. We will also prepare our data for modeling by splitting it into training and test sets."
   ]
  },
  {
   "cell_type": "code",
   "execution_count": 6,
   "id": "52cefde9-a905-404d-90d9-d5cf587789a3",
   "metadata": {},
   "outputs": [],
   "source": [
    "from sklearn.preprocessing import OneHotEncoder\n",
    "from sklearn.compose import ColumnTransformer\n",
    "X = data.drop(\"Diagnosis\", axis = 1)\n",
    "y = data[\"Diagnosis\"]\n",
    "categories = [\"Ethnicity\", \"EducationLevel\"]\n",
    "encoder = OneHotEncoder()\n",
    "transformer = ColumnTransformer([(\"encoder\",encoder,categories)],remainder=\"passthrough\")\n",
    "transformed_data = transformer.fit_transform(X)\n",
    "X  = pd.DataFrame(transformed_data)\n"
   ]
  },
  {
   "cell_type": "markdown",
   "id": "f706c890-c992-4c25-8b30-872b87a5a7ee",
   "metadata": {},
   "source": [
    "## Modeling\n"
   ]
  },
  {
   "cell_type": "markdown",
   "id": "78dd4233-2907-4ea6-b4c0-e4a558979144",
   "metadata": {},
   "source": [
    "### Finally, we're going to fit a model to our cleaned data. We have chosen a Random Forest classifier due to the fact that our data contains both numeric and categorical data."
   ]
  },
  {
   "cell_type": "code",
   "execution_count": 7,
   "id": "fa1b22f5-4101-4a68-be5f-bb4a584d173b",
   "metadata": {},
   "outputs": [
    {
     "data": {
      "text/plain": [
       "0.9395348837209302"
      ]
     },
     "execution_count": 7,
     "metadata": {},
     "output_type": "execute_result"
    }
   ],
   "source": [
    "\n",
    "np.random.seed(5)\n",
    "X_train, X_test, y_train, y_test = train_test_split(X,y,test_size=0.2)\n",
    "model = RandomForestClassifier()\n",
    "model.fit(X_train, y_train)\n",
    "model_score = model.score(X_test, y_test)\n",
    "model_score"
   ]
  },
  {
   "cell_type": "markdown",
   "id": "0feff0af-c83f-435f-a5ac-bc16c45d3aff",
   "metadata": {},
   "source": [
    "### As we can see, our model receives an accuracy score of ~.9395. This could indicate that there is a very strong correlation between our data and diagnosis, or that our model is overfitting. Next, we will evaluate our model."
   ]
  },
  {
   "cell_type": "code",
   "execution_count": null,
   "id": "2f759705-f708-4dbe-8977-8720193dbca0",
   "metadata": {},
   "outputs": [],
   "source": []
  }
 ],
 "metadata": {
  "kernelspec": {
   "display_name": "Python 3 (ipykernel)",
   "language": "python",
   "name": "python3"
  },
  "language_info": {
   "codemirror_mode": {
    "name": "ipython",
    "version": 3
   },
   "file_extension": ".py",
   "mimetype": "text/x-python",
   "name": "python",
   "nbconvert_exporter": "python",
   "pygments_lexer": "ipython3",
   "version": "3.10.13"
  }
 },
 "nbformat": 4,
 "nbformat_minor": 5
}
